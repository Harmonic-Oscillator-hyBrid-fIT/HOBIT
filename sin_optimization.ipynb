{
 "cells": [
  {
   "cell_type": "code",
   "execution_count": 30,
   "metadata": {},
   "outputs": [],
   "source": [
    "import numpy as np\n",
    "import sklearn\n",
    "from matplotlib import pyplot as plt \n",
    "\n",
    "from sklearn.metrics import mean_squared_error, r2_score\n",
    "\n"
   ]
  },
  {
   "cell_type": "markdown",
   "metadata": {},
   "source": [
    "Link to scipy: <br>\n",
    "https://scipy-lectures.org/intro/scipy/auto_examples/plot_curve_fit.html"
   ]
  },
  {
   "cell_type": "code",
   "execution_count": 91,
   "metadata": {},
   "outputs": [],
   "source": [
    "np.random.seed(12345)\n",
    "\n",
    "n = 100\n",
    "x_data = np.linspace(-5, 5, num= n)\n",
    "y_data = 2.9 * np.cos(1.5 * x_data+ 5) + np.random.normal(size= n)"
   ]
  },
  {
   "cell_type": "markdown",
   "metadata": {},
   "source": [
    "The data has the following parameters: <br>\n",
    "$A_0$ = 2.9 <br>\n",
    "$\\omega = 1.5$ <br>\n",
    "$\\phi = 5$ "
   ]
  },
  {
   "cell_type": "code",
   "execution_count": 92,
   "metadata": {},
   "outputs": [
    {
     "data": {
      "text/plain": [
       "<matplotlib.collections.PathCollection at 0x17499c53748>"
      ]
     },
     "execution_count": 92,
     "metadata": {},
     "output_type": "execute_result"
    },
    {
     "data": {
      "image/png": "[encoded data removed]",
      "text/plain": [
       "<Figure size 432x288 with 1 Axes>"
      ]
     },
     "metadata": {
      "needs_background": "light"
     },
     "output_type": "display_data"
    }
   ],
   "source": [
    "plt.scatter(x_data, y_data)"
   ]
  },
  {
   "cell_type": "markdown",
   "metadata": {},
   "source": [
    "Fitting using scipy"
   ]
  },
  {
   "cell_type": "code",
   "execution_count": 93,
   "metadata": {},
   "outputs": [
    {
     "name": "stdout",
     "output_type": "stream",
     "text": [
      "[0.62165249 2.44587736 3.25044507]\n"
     ]
    }
   ],
   "source": [
    "from scipy import optimize\n",
    "\n",
    "def test_func(x, a, b, c):\n",
    "    return a* np.sin(b * x+ c)\n",
    "\n",
    "params, params_covariance = optimize.curve_fit(test_func, x_data, y_data,\n",
    "                                               p0=[2, 2, 2])\n",
    "\n",
    "print(params)"
   ]
  },
  {
   "cell_type": "code",
   "execution_count": 94,
   "metadata": {},
   "outputs": [
    {
     "data": {
      "text/plain": [
       "<matplotlib.legend.Legend at 0x17499cc6978>"
      ]
     },
     "execution_count": 94,
     "metadata": {},
     "output_type": "execute_result"
    },
    {
     "data": {
      "image/png": "[encoded data removed]",
      "text/plain": [
       "<Figure size 432x288 with 1 Axes>"
      ]
     },
     "metadata": {
      "needs_background": "light"
     },
     "output_type": "display_data"
    }
   ],
   "source": [
    "plt.figure(figsize=(6, 4))\n",
    "plt.scatter(x_data, y_data, label='Data')\n",
    "plt.plot(x_data, test_func(x_data, params[0], params[1], params[2]),\n",
    "         label='Fitted function')\n",
    "\n",
    "plt.legend(loc='best')\n"
   ]
  },
  {
   "cell_type": "code",
   "execution_count": null,
   "metadata": {},
   "outputs": [],
   "source": []
  },
  {
   "cell_type": "markdown",
   "metadata": {},
   "source": [
    "Fitting using sklearn"
   ]
  },
  {
   "cell_type": "code",
   "execution_count": 78,
   "metadata": {},
   "outputs": [],
   "source": [
    "from scipy import optimize\n",
    "from sklearn.linear_model import LinearRegression\n",
    "from sklearn.base import BaseEstimator, TransformerMixin\n",
    "import numpy as np\n",
    "\n",
    "class Cosine(BaseEstimator, TransformerMixin):\n",
    "    def __init__(self, omega= 1, phi = 1):\n",
    "        #Initialization of model parameters\n",
    "        self.omega= omega \n",
    "        self.phi= phi\n",
    "        self.model = LinearRegression()\n",
    "        self.coefs= None \n",
    "        self.amplitudes= None\n",
    "        self.params_covariance= None\n",
    "    \n",
    "    @staticmethod\n",
    "    def harmonic_funct(x, omega, phi):\n",
    "        return np.cos(omega*x + phi)\n",
    "        \n",
    "    def _fit_params(self, X, y):\n",
    "        params, params_covariance = optimize.curve_fit(self.harmonic_funct, X, y,\n",
    "                                               p0=[self.omega, self.phi])\n",
    "        #Update omega and phi with scipy parameters (optimization)\n",
    "        self.omega = params[0]\n",
    "        self.phi= params[1]\n",
    "        self.params_covariance= params_covariance\n",
    "        #self.amplitudes= params[0]\n",
    "    \n",
    "    def _transform_params(self, X): \n",
    "        omega = self.omega*np.ones(len(X))\n",
    "        phi = self.phi*np.ones(len(X))\n",
    "        #a0= np.ones(len(X))\n",
    "        x_new= np.cos(omega*X+ phi)\n",
    "        x_new = x_new[:, np.newaxis]\n",
    "        return x_new\n",
    "    \n",
    "    def fit(self, X, y):\n",
    "        self._fit_params(X, y)\n",
    "        X_transf= self._transform_params(X)\n",
    "        self.model.fit(X_transf, y)\n",
    "        self.coefs= self.model.coef_\n",
    "        return self\n",
    "    \n",
    "    def predict(self, X):\n",
    "        X_transf= self._transform_params(X)\n",
    "        ypred= self.model.predict(X_transf)\n",
    "        return ypred\n",
    "        \n",
    "    "
   ]
  },
  {
   "cell_type": "code",
   "execution_count": 79,
   "metadata": {},
   "outputs": [],
   "source": [
    "# random split the data into train and test\n",
    "from sklearn.model_selection import train_test_split\n",
    "X_train, X_test, y_train, y_test = train_test_split(x_data, y_data, test_size=0.2, random_state=42)\n"
   ]
  },
  {
   "cell_type": "code",
   "execution_count": 80,
   "metadata": {},
   "outputs": [],
   "source": [
    "#USING THE HARMONIC CLASS\n",
    "c= Cosine()\n",
    "c.fit(X_train, y_train)\n",
    "y_pred = c.predict(X_test)\n"
   ]
  },
  {
   "cell_type": "code",
   "execution_count": 81,
   "metadata": {},
   "outputs": [
    {
     "name": "stdout",
     "output_type": "stream",
     "text": [
      "0.5235834379553194 2.5552438722673867\n",
      "[0.39841119]\n"
     ]
    }
   ],
   "source": [
    "print(c.omega, c.phi)\n",
    "#print(c.amplitudes)\n",
    "print(c.coefs)"
   ]
  },
  {
   "cell_type": "code",
   "execution_count": 82,
   "metadata": {},
   "outputs": [
    {
     "name": "stdout",
     "output_type": "stream",
     "text": [
      "rmse: 2.2536038778497804\n",
      "r2: 0.033781758973464804\n"
     ]
    }
   ],
   "source": [
    "#Get rmse \n",
    "rmse = np.sqrt(mean_squared_error(y_test,y_pred))\n",
    "r2 = r2_score(y_test,y_pred)\n",
    "print('rmse:', rmse)\n",
    "print('r2:',r2)"
   ]
  },
  {
   "cell_type": "code",
   "execution_count": null,
   "metadata": {},
   "outputs": [],
   "source": []
  },
  {
   "cell_type": "code",
   "execution_count": 83,
   "metadata": {},
   "outputs": [],
   "source": [
    "# Aplication of the model to the whole dataset\n",
    "x= c._transform_params(x_data)\n",
    "y = model.predict(x)"
   ]
  },
  {
   "cell_type": "code",
   "execution_count": 84,
   "metadata": {},
   "outputs": [
    {
     "data": {
      "text/plain": [
       "<matplotlib.collections.PathCollection at 0x1749968cc18>"
      ]
     },
     "execution_count": 84,
     "metadata": {},
     "output_type": "execute_result"
    },
    {
     "data": {
      "image/png": "[encoded data removed]",
      "text/plain": [
       "<Figure size 432x288 with 1 Axes>"
      ]
     },
     "metadata": {
      "needs_background": "light"
     },
     "output_type": "display_data"
    }
   ],
   "source": [
    "fig, ax = plt.subplots()\n",
    "ax.scatter(x_data, y_data, label= 'observations', color= 'b')\n",
    "ax.scatter(x_data, y, label= 'predictions', color= 'r')"
   ]
  },
  {
   "cell_type": "code",
   "execution_count": null,
   "metadata": {},
   "outputs": [],
   "source": []
  }
 ],
 "metadata": {
  "kernelspec": {
   "display_name": "geopandas",
   "language": "python",
   "name": "geopandas"
  },
  "language_info": {
   "codemirror_mode": {
    "name": "ipython",
    "version": 3
   },
   "file_extension": ".py",
   "mimetype": "text/x-python",
   "name": "python",
   "nbconvert_exporter": "python",
   "pygments_lexer": "ipython3",
   "version": "3.6.8"
  }
 },
 "nbformat": 4,
 "nbformat_minor": 2
}
